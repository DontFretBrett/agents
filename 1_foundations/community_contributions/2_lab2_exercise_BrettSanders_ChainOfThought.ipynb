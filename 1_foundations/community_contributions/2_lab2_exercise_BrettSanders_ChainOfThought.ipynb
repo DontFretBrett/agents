{
 "cells": [
  {
   "cell_type": "raw",
   "metadata": {
    "vscode": {
     "languageId": "raw"
    }
   },
   "source": [
    "# Lab 2 Exercise - Extending the Patterns\n",
    "\n",
    "This notebook extends the original lab by adding the Chain of Thought pattern to enhance the evaluation process.\n"
   ]
  },
  {
   "cell_type": "code",
   "execution_count": 1,
   "metadata": {},
   "outputs": [],
   "source": [
    "# Import required packages\n",
    "import os\n",
    "import json\n",
    "from dotenv import load_dotenv\n",
    "from openai import OpenAI\n",
    "from anthropic import Anthropic\n",
    "from IPython.display import Markdown, display\n"
   ]
  },
  {
   "cell_type": "code",
   "execution_count": 2,
   "metadata": {},
   "outputs": [
    {
     "data": {
      "text/plain": [
       "True"
      ]
     },
     "execution_count": 2,
     "metadata": {},
     "output_type": "execute_result"
    }
   ],
   "source": [
    "# Load environment variables\n",
    "load_dotenv(override=True)\n"
   ]
  },
  {
   "cell_type": "code",
   "execution_count": 3,
   "metadata": {},
   "outputs": [],
   "source": [
    "# Initialize API clients\n",
    "openai = OpenAI()\n",
    "claude = Anthropic()\n"
   ]
  },
  {
   "cell_type": "code",
   "execution_count": 4,
   "metadata": {},
   "outputs": [
    {
     "name": "stdout",
     "output_type": "stream",
     "text": [
      "If you could choose one historical figure to converse with for an hour, who would it be, what specific questions would you ask them, and how do you believe their responses could shape or challenge your current understanding of a contemporary issue?\n"
     ]
    }
   ],
   "source": [
    "# Original question generation\n",
    "request = \"Please come up with a challenging, nuanced question that I can ask a number of LLMs to evaluate their intelligence. \"\n",
    "request += \"Answer only with the question, no explanation.\"\n",
    "messages = [{\"role\": \"user\", \"content\": request}]\n",
    "\n",
    "response = openai.chat.completions.create(\n",
    "    model=\"gpt-4o-mini\",\n",
    "    messages=messages,\n",
    ")\n",
    "question = response.choices[0].message.content\n",
    "print(question)\n"
   ]
  },
  {
   "cell_type": "code",
   "execution_count": 5,
   "metadata": {},
   "outputs": [
    {
     "data": {
      "text/markdown": [
       "If I could choose one historical figure to converse with for an hour, it would be Mahatma Gandhi. His philosophies of non-violence, civil disobedience, and grassroots activism have had a profound impact on social justice movements worldwide.\n",
       "\n",
       "### Specific Questions to Ask:\n",
       "\n",
       "1. **Moral Philosophy and Tactics**: How did you reconcile the need for political action with your commitment to non-violence, especially when faced with violent opposition?\n",
       "   \n",
       "2. **Globalization and Modern Politics**: In today's globalized world, how would you adapt your methods and philosophies to address issues like climate change, economic inequality, and political corruption?\n",
       "\n",
       "3. **Youth Activism**: What role do you believe young people should play in social movements today, and what advice would you give to them about sustaining their motivation and passion?\n",
       "\n",
       "4. **Cultural Dialogue**: How do you view the relationship between different cultural identities in the pursuit of social justice? How can we foster empathy and understanding in a polarized society?\n",
       "\n",
       "5. **Technology and Activism**: With the advent of social media and technology, how do you think these tools can be used effectively for nonviolent activism, and what potential pitfalls should activists be wary of?\n",
       "\n",
       "### Potential Impact on Contemporary Issues:\n",
       "\n",
       "Gandhi's responses could profoundly challenge and shape my understanding of contemporary issues, especially regarding non-violent protest and grassroots movements. For instance:\n",
       "\n",
       "- **Non-Violent Protest**: His insights might reinforce the effectiveness of peaceful protests in the face of oppression, encouraging current movements to uphold these principles even when confronted with brutality.\n",
       "\n",
       "- **Adaptation of Philosophy**: By discussing how his philosophies might adapt to modern problems like climate change, I could better understand the importance of integrating moral imperatives with urgent global challenges, reshaping how I view activism in various contexts.\n",
       "\n",
       "- **Youth Empowerment**: Gandhi's perspective on youth activism could inspire innovative strategies for engaging young people in current social issues and highlight the importance of intergenerational dialogue.\n",
       "\n",
       "- **Cultural Understanding**: His thoughts on cultural dialogue could reshape my approach to bridging divides in contemporary society, emphasizing the need for empathy in discussions around race, class, and identity.\n",
       "\n",
       "- **Technology's Role**: His views on the use of technology in activism would provide a critical lens for evaluating both the benefits and drawbacks of digital platforms in mobilizing social movements.\n",
       "\n",
       "Overall, a conversation with Gandhi could not only reinforce the value of his teachings but also provide new strategies and insights for addressing the complex challenges we face today."
      ],
      "text/plain": [
       "<IPython.core.display.Markdown object>"
      ]
     },
     "metadata": {},
     "output_type": "display_data"
    },
    {
     "data": {
      "text/markdown": [
       "# A Conversation with Ada Lovelace\n",
       "\n",
       "I would choose Ada Lovelace, the 19th-century mathematician recognized as the first computer programmer. In our hour together, I would explore:\n",
       "\n",
       "1. **Her algorithmic vision**: \"When writing notes for Babbage's Analytical Engine, you foresaw that machines could manipulate symbols beyond mere calculation. What specific applications beyond mathematics did you envision for computing machines?\"\n",
       "\n",
       "2. **Creative computing**: \"You described the 'poetical science' concept that married imagination with mathematical reasoning. How would you apply this framework to evaluate today's AI systems?\"\n",
       "\n",
       "3. **Gender and science**: \"What strategies helped you succeed in mathematics despite societal constraints on women's intellectual pursuits?\"\n",
       "\n",
       "4. **Ethical foresight**: \"Did you anticipate any potential societal consequences of mechanical thinking machines?\"\n",
       "\n",
       "I believe her responses would challenge our contemporary separation between technical and humanistic approaches to computing. Her holistic understanding might offer alternative frameworks for addressing AI ethics questions, particularly around creativity and human-machine collaboration. Her perspective could illuminate blind spots in our current technology development paradigms that emphasize efficiency over broader human values."
      ],
      "text/plain": [
       "<IPython.core.display.Markdown object>"
      ]
     },
     "metadata": {},
     "output_type": "display_data"
    }
   ],
   "source": [
    "# Get responses from multiple models\n",
    "competitors = []\n",
    "answers = []\n",
    "messages = [{\"role\": \"user\", \"content\": question}]\n",
    "\n",
    "# OpenAI\n",
    "response = openai.chat.completions.create(model=\"gpt-4o-mini\", messages=messages)\n",
    "answer = response.choices[0].message.content\n",
    "competitors.append(\"gpt-4o-mini\")\n",
    "answers.append(answer)\n",
    "display(Markdown(answer))\n",
    "\n",
    "# Claude\n",
    "response = claude.messages.create(model=\"claude-3-7-sonnet-latest\", messages=messages, max_tokens=1000)\n",
    "answer = response.content[0].text\n",
    "competitors.append(\"claude-3-7-sonnet-latest\")\n",
    "answers.append(answer)\n",
    "display(Markdown(answer))\n"
   ]
  },
  {
   "cell_type": "code",
   "execution_count": 6,
   "metadata": {},
   "outputs": [],
   "source": [
    "# NEW: Chain of Thought Evaluation\n",
    "# First, let's create a detailed evaluation prompt that encourages step-by-step reasoning\n",
    "\n",
    "evaluation_prompt = f\"\"\"You are an expert evaluator of AI responses. Your task is to analyze and rank the following responses to this question:\n",
    "\n",
    "{question}\n",
    "\n",
    "Please follow these steps in your evaluation:\n",
    "\n",
    "1. For each response:\n",
    "   - Identify the main arguments presented\n",
    "   - Evaluate the clarity and coherence of the reasoning\n",
    "   - Assess the depth and breadth of the analysis\n",
    "   - Note any unique insights or perspectives\n",
    "\n",
    "2. Compare the responses:\n",
    "   - How do they differ in their approach?\n",
    "   - Which response demonstrates the most sophisticated understanding?\n",
    "   - Which response provides the most practical and actionable insights?\n",
    "\n",
    "3. Provide your final ranking with detailed justification for each position.\n",
    "\n",
    "Here are the responses:\n",
    "\n",
    "{'\\\\n\\\\n'.join([f'Response {i+1} ({competitors[i]}):\\\\n{answer}' for i, answer in enumerate(answers)])}\n",
    "\n",
    "Please provide your evaluation in JSON format with the following structure:\n",
    "{{\n",
    "    \"detailed_analysis\": [\n",
    "        {{\"competitor\": \"name\", \"strengths\": [], \"weaknesses\": [], \"unique_aspects\": []}},\n",
    "        ...\n",
    "    ],\n",
    "    \"comparative_analysis\": \"detailed comparison of responses\",\n",
    "    \"final_ranking\": [\"ranked competitor numbers\"],\n",
    "    \"justification\": \"detailed explanation of the ranking\"\n",
    "}}\"\"\"\n"
   ]
  },
  {
   "cell_type": "code",
   "execution_count": 7,
   "metadata": {},
   "outputs": [
    {
     "name": "stdout",
     "output_type": "stream",
     "text": [
      "```json\n",
      "{\n",
      "    \"detailed_analysis\": [\n",
      "        {\n",
      "            \"competitor\": \"gpt-4o-mini\",\n",
      "            \"strengths\": [\n",
      "                \"Wide range of questions touching on multiple relevant contemporary issues.\",\n",
      "                \"Deep understanding of Gandhi's philosophies and their applications today.\",\n",
      "                \"Focus on youth activism and cultural dialogue, emphasizing empathy.\"\n",
      "            ],\n",
      "            \"weaknesses\": [\n",
      "                \"Responses could be more succinct and focused on fewer questions for deeper analysis.\"\n",
      "            ],\n",
      "            \"unique_aspects\": [\n",
      "                \"Integrates Gandhi's principles with modern technological challenges and social movements.\"\n",
      "            ]\n",
      "        },\n",
      "        {\n",
      "            \"competitor\": \"claude-3-7-sonnet-latest\",\n",
      "            \"strengths\": [\n",
      "                \"Focuses on a less conventional historical figure, Ada Lovelace, providing a unique perspective.\",\n",
      "                \"Questions engage with both technical and ethical dimensions of computing.\",\n",
      "                \"Encourages a holistic understanding of technology and its societal implications.\"\n",
      "            ],\n",
      "            \"weaknesses\": [\n",
      "                \"The scope of questions is narrower and less diverse compared to Gandhi's approach.\"\n",
      "            ],\n",
      "            \"unique_aspects\": [\n",
      "                \"Addresses the intersection of gender and science, adding depth to the inquiry.\"\n",
      "            ]\n",
      "        }\n",
      "    ],\n",
      "    \"comparative_analysis\": \"Response 1 provides a broader range of questions and context for contemporary social issues through the lens of Gandhi's philosophies, showcasing a deeper understanding of activism's evolution. In contrast, Response 2 offers a unique and focused insight into the realm of technology and ethics through the figure of Ada Lovelace, emphasizing the importance of humanistic perspectives in computing. While both responses are strong, Response 1 offers more actionable insights regarding social movements, while Response 2 excels in the discussion of tech ethics.\",\n",
      "    \"final_ranking\": [\"1\", \"2\"],\n",
      "    \"justification\": \"Response 1 ranks higher due to its comprehensive approach and relevant contemporary applications of Gandhi's teachings, addressing a wider range of pressing social issues. It demonstrates a sophisticated understanding of activism, empowerment, and cultural issues. Response 2, while unique and insightful, has a narrower scope, focusing primarily on technological implications, which limits its practical applicability to a broader audience.\"\n",
      "}\n",
      "```\n"
     ]
    }
   ],
   "source": [
    "# Get the detailed evaluation\n",
    "evaluation_messages = [{\"role\": \"user\", \"content\": evaluation_prompt}]\n",
    "\n",
    "response = openai.chat.completions.create(\n",
    "    model=\"gpt-4o-mini\",\n",
    "    messages=evaluation_messages,\n",
    ")\n",
    "detailed_evaluation = response.choices[0].message.content\n",
    "print(detailed_evaluation)\n"
   ]
  },
  {
   "cell_type": "code",
   "execution_count": 9,
   "metadata": {},
   "outputs": [
    {
     "name": "stdout",
     "output_type": "stream",
     "text": [
      "Detailed Analysis:\n",
      "\n",
      "Competitor: gpt-4o-mini\n",
      "Strengths:\n",
      "- Wide range of questions touching on multiple relevant contemporary issues.\n",
      "- Deep understanding of Gandhi's philosophies and their applications today.\n",
      "- Focus on youth activism and cultural dialogue, emphasizing empathy.\n",
      "\n",
      "Weaknesses:\n",
      "- Responses could be more succinct and focused on fewer questions for deeper analysis.\n",
      "\n",
      "Unique Aspects:\n",
      "- Integrates Gandhi's principles with modern technological challenges and social movements.\n",
      "\n",
      "Competitor: claude-3-7-sonnet-latest\n",
      "Strengths:\n",
      "- Focuses on a less conventional historical figure, Ada Lovelace, providing a unique perspective.\n",
      "- Questions engage with both technical and ethical dimensions of computing.\n",
      "- Encourages a holistic understanding of technology and its societal implications.\n",
      "\n",
      "Weaknesses:\n",
      "- The scope of questions is narrower and less diverse compared to Gandhi's approach.\n",
      "\n",
      "Unique Aspects:\n",
      "- Addresses the intersection of gender and science, adding depth to the inquiry.\n",
      "\n",
      "Comparative Analysis:\n",
      "Response 1 provides a broader range of questions and context for contemporary social issues through the lens of Gandhi's philosophies, showcasing a deeper understanding of activism's evolution. In contrast, Response 2 offers a unique and focused insight into the realm of technology and ethics through the figure of Ada Lovelace, emphasizing the importance of humanistic perspectives in computing. While both responses are strong, Response 1 offers more actionable insights regarding social movements, while Response 2 excels in the discussion of tech ethics.\n",
      "\n",
      "Final Ranking:\n",
      "1. gpt-4o-mini\n",
      "2. claude-3-7-sonnet-latest\n",
      "\n",
      "Justification:\n",
      "Response 1 ranks higher due to its comprehensive approach and relevant contemporary applications of Gandhi's teachings, addressing a wider range of pressing social issues. It demonstrates a sophisticated understanding of activism, empowerment, and cultural issues. Response 2, while unique and insightful, has a narrower scope, focusing primarily on technological implications, which limits its practical applicability to a broader audience.\n"
     ]
    }
   ],
   "source": [
    "# Parse and display the results in a more readable format\n",
    "\n",
    "# Clean up the JSON string by removing markdown code block markers\n",
    "json_str = detailed_evaluation.replace(\"```json\", \"\").replace(\"```\", \"\").strip()\n",
    "\n",
    "evaluation_dict = json.loads(json_str)\n",
    "\n",
    "print(\"Detailed Analysis:\")\n",
    "for analysis in evaluation_dict[\"detailed_analysis\"]:\n",
    "    print(f\"\\nCompetitor: {analysis['competitor']}\")\n",
    "    print(\"Strengths:\")\n",
    "    for strength in analysis['strengths']:\n",
    "        print(f\"- {strength}\")\n",
    "    print(\"\\nWeaknesses:\")\n",
    "    for weakness in analysis['weaknesses']:\n",
    "        print(f\"- {weakness}\")\n",
    "    print(\"\\nUnique Aspects:\")\n",
    "    for aspect in analysis['unique_aspects']:\n",
    "        print(f\"- {aspect}\")\n",
    "\n",
    "print(\"\\nComparative Analysis:\")\n",
    "print(evaluation_dict[\"comparative_analysis\"])\n",
    "\n",
    "print(\"\\nFinal Ranking:\")\n",
    "for i, rank in enumerate(evaluation_dict[\"final_ranking\"]):\n",
    "    print(f\"{i+1}. {competitors[int(rank)-1]}\")\n",
    "\n",
    "print(\"\\nJustification:\")\n",
    "print(evaluation_dict[\"justification\"])\n"
   ]
  },
  {
   "cell_type": "raw",
   "metadata": {
    "vscode": {
     "languageId": "raw"
    }
   },
   "source": [
    "## Pattern Analysis\n",
    "\n",
    "This enhanced version uses several agentic design patterns:\n",
    "\n",
    "1. **Multi-agent Collaboration**: Sending the same question to multiple LLMs\n",
    "2. **Evaluation/Judgment Pattern**: Using one LLM to evaluate responses from others\n",
    "3. **Parallel Processing**: Running multiple models simultaneously\n",
    "4. **Chain of Thought**: Added a structured, step-by-step evaluation process that breaks down the analysis into clear stages\n",
    "\n",
    "The Chain of Thought pattern is particularly valuable here because it:\n",
    "- Forces the evaluator to consider multiple aspects of each response\n",
    "- Provides more detailed and structured feedback\n",
    "- Makes the evaluation process more transparent and explainable\n",
    "- Helps identify specific strengths and weaknesses in each response\n"
   ]
  }
 ],
 "metadata": {
  "kernelspec": {
   "display_name": ".venv",
   "language": "python",
   "name": "python3"
  },
  "language_info": {
   "codemirror_mode": {
    "name": "ipython",
    "version": 3
   },
   "file_extension": ".py",
   "mimetype": "text/x-python",
   "name": "python",
   "nbconvert_exporter": "python",
   "pygments_lexer": "ipython3",
   "version": "3.12.7"
  }
 },
 "nbformat": 4,
 "nbformat_minor": 2
}
