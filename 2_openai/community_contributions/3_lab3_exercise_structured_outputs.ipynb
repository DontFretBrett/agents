{
  "cells": [
    {
      "cell_type": "raw",
      "metadata": {
        "vscode": {
          "languageId": "raw"
        }
      },
      "source": [
        "# Lab 3 Exercise: Enhanced Email Generation System\n",
        "\n",
        "This notebook extends the base lab with:\n",
        "1. Additional model integrations\n",
        "2. Enhanced input/output guardrails\n",
        "3. Structured outputs for email generation\n",
        "4. Improved email validation and formatting\n"
      ]
    },
    {
      "cell_type": "raw",
      "metadata": {
        "vscode": {
          "languageId": "raw"
        }
      },
      "source": [
        "## Setup and Imports\n",
        "\n",
        "The following cell imports necessary libraries:\n",
        "- `dotenv` for environment variable management\n",
        "- `AsyncOpenAI` for API interactions\n",
        "- Various agent components from our framework\n",
        "- SendGrid for email functionality\n",
        "- Pydantic for data validation and structured outputs\n"
      ]
    },
    {
      "cell_type": "code",
      "execution_count": 1,
      "metadata": {},
      "outputs": [],
      "source": [
        "from dotenv import load_dotenv\n",
        "from openai import AsyncOpenAI\n",
        "from agents import Agent, Runner, trace, function_tool, OpenAIChatCompletionsModel, input_guardrail, output_guardrail, GuardrailFunctionOutput\n",
        "from typing import Dict, List, Optional\n",
        "import sendgrid\n",
        "import os\n",
        "from sendgrid.helpers.mail import Mail, Email, To, Content\n",
        "from pydantic import BaseModel, Field, EmailStr\n",
        "import re\n"
      ]
    },
    {
      "cell_type": "raw",
      "metadata": {
        "vscode": {
          "languageId": "raw"
        }
      },
      "source": [
        "## Environment Setup\n",
        "\n",
        "This cell loads environment variables and verifies the presence of required API keys:\n",
        "- OpenAI (required)\n",
        "- Google/Gemini (optional)\n",
        "- DeepSeek (optional)\n",
        "- Groq (optional)\n",
        "- Anthropic (optional)\n",
        "\n",
        "Each API key is checked and its status is displayed for verification.\n"
      ]
    },
    {
      "cell_type": "code",
      "execution_count": null,
      "metadata": {},
      "outputs": [],
      "source": [
        "load_dotenv(override=True)\n",
        "\n",
        "# API Keys\n",
        "openai_api_key = os.getenv('OPENAI_API_KEY')\n",
        "google_api_key = os.getenv('GOOGLE_API_KEY')\n",
        "deepseek_api_key = os.getenv('DEEPSEEK_API_KEY')\n",
        "groq_api_key = os.getenv('GROQ_API_KEY')\n",
        "anthropic_api_key = os.getenv('ANTHROPIC_API_KEY')\n",
        "\n",
        "# Print API key status\n",
        "for key, name in [\n",
        "    (openai_api_key, 'OpenAI'),\n",
        "    (google_api_key, 'Google'),\n",
        "    (deepseek_api_key, 'DeepSeek'),\n",
        "    (groq_api_key, 'Groq'),\n",
        "    (anthropic_api_key, 'Anthropic')\n",
        "]:\n",
        "    if key:\n",
        "        print(f\"{name} API Key exists and begins with {key[:4]}\")\n",
        "    else:\n",
        "        print(f\"{name} API Key not set (optional except OpenAI)\")\n"
      ]
    },
    {
      "cell_type": "raw",
      "metadata": {
        "vscode": {
          "languageId": "raw"
        }
      },
      "source": [
        "## Data Models\n",
        "\n",
        "Here we define our Pydantic models for structured data:\n",
        "\n",
        "1. `EmailContent`: Defines the structure of our sales emails\n",
        "   - Subject line\n",
        "   - Email body\n",
        "   - Sender and recipient titles\n",
        "\n",
        "2. `EmailValidation`: Specifies validation criteria\n",
        "   - Spam word detection\n",
        "   - Length validation\n",
        "   - Call-to-action verification\n",
        "\n",
        "3. `PersonalInfoCheck`: Handles privacy concerns\n",
        "   - Personal information detection\n",
        "   - Information type classification\n",
        "   - Text extraction for review\n"
      ]
    },
    {
      "cell_type": "code",
      "execution_count": 3,
      "metadata": {},
      "outputs": [],
      "source": [
        "class EmailContent(BaseModel):\n",
        "    subject: str = Field(..., description=\"The email subject line\")\n",
        "    body: str = Field(..., description=\"The main body of the email\")\n",
        "    sender_title: str = Field(..., description=\"The professional title of the sender\")\n",
        "    recipient_title: str = Field(..., description=\"The title/role of the recipient\")\n",
        "    \n",
        "class EmailValidation(BaseModel):\n",
        "    contains_spam_words: bool = Field(..., description=\"Whether the email contains common spam trigger words\")\n",
        "    length_appropriate: bool = Field(..., description=\"Whether the email length is appropriate (not too short or long)\")\n",
        "    has_call_to_action: bool = Field(..., description=\"Whether the email has a clear call to action\")\n",
        "    spam_words_found: List[str] = Field(default_factory=list, description=\"List of spam words found in the email\")\n",
        "    \n",
        "class PersonalInfoCheck(BaseModel):\n",
        "    contains_personal_info: bool = Field(..., description=\"Whether the message contains personal information\")\n",
        "    info_type: Optional[str] = Field(None, description=\"Type of personal information found (name, email, phone, etc.)\")\n",
        "    found_text: Optional[str] = Field(None, description=\"The actual personal information found\")\n"
      ]
    },
    {
      "cell_type": "raw",
      "metadata": {
        "vscode": {
          "languageId": "raw"
        }
      },
      "source": [
        "## Model Configuration\n",
        "\n",
        "This section sets up connections to various AI models:\n",
        "- DeepSeek for professional content\n",
        "- Gemini for conversational content\n",
        "- Llama 3.3 for direct communication\n",
        "- Claude for advanced processing\n",
        "\n",
        "Each model is configured with its specific API endpoint and authentication.\n"
      ]
    },
    {
      "cell_type": "code",
      "execution_count": 4,
      "metadata": {},
      "outputs": [],
      "source": [
        "# API Base URLs\n",
        "GEMINI_BASE_URL = \"https://generativelanguage.googleapis.com/v1beta/openai/\"\n",
        "DEEPSEEK_BASE_URL = \"https://api.deepseek.com/v1\"\n",
        "GROQ_BASE_URL = \"https://api.groq.com/openai/v1\"\n",
        "ANTHROPIC_BASE_URL = \"https://api.anthropic.com/v1\"\n",
        "\n",
        "# Initialize clients\n",
        "deepseek_client = AsyncOpenAI(base_url=DEEPSEEK_BASE_URL, api_key=deepseek_api_key)\n",
        "gemini_client = AsyncOpenAI(base_url=GEMINI_BASE_URL, api_key=google_api_key)\n",
        "groq_client = AsyncOpenAI(base_url=GROQ_BASE_URL, api_key=groq_api_key)\n",
        "anthropic_client = AsyncOpenAI(base_url=ANTHROPIC_BASE_URL, api_key=anthropic_api_key)\n",
        "\n",
        "# Initialize models\n",
        "deepseek_model = OpenAIChatCompletionsModel(model=\"deepseek-chat\", openai_client=deepseek_client)\n",
        "gemini_model = OpenAIChatCompletionsModel(model=\"gemini-2.0-flash\", openai_client=gemini_client)\n",
        "llama3_3_model = OpenAIChatCompletionsModel(model=\"llama-3.3-70b-versatile\", openai_client=groq_client)\n",
        "claude_model = OpenAIChatCompletionsModel(model=\"claude-3-sonnet\", openai_client=anthropic_client)\n"
      ]
    },
    {
      "cell_type": "raw",
      "metadata": {
        "vscode": {
          "languageId": "raw"
        }
      },
      "source": [
        "## Guardrails and Tools\n",
        "\n",
        "This section implements our safety and quality control measures:\n",
        "\n",
        "1. Personal Information Guardrail:\n",
        "   - Checks for names, emails, and phone numbers\n",
        "   - Prevents unauthorized use of personal data\n",
        "\n",
        "2. Email Validation:\n",
        "   - Spam detection\n",
        "   - Length verification\n",
        "   - Call-to-action presence check\n",
        "\n",
        "3. Email Processing Tools:\n",
        "   - HTML conversion with professional formatting\n",
        "   - SendGrid integration for email delivery\n"
      ]
    },
    {
      "cell_type": "code",
      "execution_count": 5,
      "metadata": {},
      "outputs": [],
      "source": [
        "# Input guardrail for personal information\n",
        "personal_info_checker = Agent(\n",
        "    name=\"Personal Info Checker\",\n",
        "    instructions=\"Check if the message contains any personal information like names, emails, or phone numbers.\",\n",
        "    output_type=PersonalInfoCheck,\n",
        "    model=\"gpt-4o-mini\"\n",
        ")\n",
        "\n",
        "@input_guardrail\n",
        "async def check_personal_info(ctx, agent, message):\n",
        "    result = await Runner.run(personal_info_checker, message, context=ctx.context)\n",
        "    return GuardrailFunctionOutput(\n",
        "        output_info={\"personal_info\": result.final_output},\n",
        "        tripwire_triggered=result.final_output.contains_personal_info\n",
        "    )\n",
        "\n",
        "# Email validation agent\n",
        "email_validator = Agent(\n",
        "    name=\"Email Validator\",\n",
        "    instructions=\"Validate the email content for spam words, appropriate length, and presence of call to action.\",\n",
        "    output_type=EmailValidation,\n",
        "    model=\"gpt-4o-mini\"\n",
        ")\n",
        "\n",
        "@output_guardrail\n",
        "async def validate_email(ctx, agent, output):\n",
        "    validation_result = await Runner.run(email_validator, output, context=ctx.context)\n",
        "    return GuardrailFunctionOutput(\n",
        "        output_info={\"validation\": validation_result.final_output},\n",
        "        tripwire_triggered=validation_result.final_output.contains_spam_words or not validation_result.final_output.length_appropriate\n",
        "    )\n",
        "\n",
        "# HTML email conversion function\n",
        "@function_tool\n",
        "def convert_to_html(email_content: EmailContent) -> str:\n",
        "    \"\"\"Convert the email content to HTML format with professional styling\"\"\"\n",
        "    html = f\"\"\"\n",
        "    <!DOCTYPE html>\n",
        "    <html>\n",
        "    <body style=\"font-family: Arial, sans-serif; line-height: 1.6; max-width: 600px; margin: 0 auto;\">\n",
        "        <p>Dear {email_content.recipient_title},</p>\n",
        "        {email_content.body}\n",
        "        <p>Best regards,<br>\n",
        "        {email_content.sender_title}</p>\n",
        "    </body>\n",
        "    </html>\n",
        "    \"\"\"\n",
        "    return html\n",
        "\n",
        "# SendGrid email sending function\n",
        "@function_tool\n",
        "def send_email(email_content: EmailContent, html_body: str) -> Dict[str, str]:\n",
        "    \"\"\"Send the email using SendGrid\"\"\"\n",
        "    sg = sendgrid.SendGridAPIClient(api_key=os.environ.get('SENDGRID_API_KEY'))\n",
        "    from_email = Email(\"sanders.brett@gmail.com\")\n",
        "    to_email = To(\"blogbrett@gmail.com\")\n",
        "    content = Content(\"text/html\", html_body)\n",
        "    mail = Mail(from_email, to_email, email_content.subject, content)\n",
        "    response = sg.client.mail.send.post(request_body=mail.get())\n",
        "    return {\"status\": \"success\"}\n"
      ]
    },
    {
      "cell_type": "raw",
      "metadata": {
        "vscode": {
          "languageId": "raw"
        }
      },
      "source": [
        "## Sales Agents Configuration\n",
        "\n",
        "This section creates three distinct sales agent personalities:\n",
        "\n",
        "1. Professional Sales Agent (DeepSeek):\n",
        "   - Formal and structured communication\n",
        "   - Emphasis on expertise and track record\n",
        "\n",
        "2. Casual Sales Agent (Gemini):\n",
        "   - Friendly and approachable tone\n",
        "   - Maintains professionalism while building rapport\n",
        "\n",
        "3. Direct Sales Agent (Llama 3.3):\n",
        "   - Concise and value-focused\n",
        "   - Straight-to-the-point communication style\n",
        "\n",
        "Each agent is configured with specific instructions and model assignments.\n"
      ]
    },
    {
      "cell_type": "code",
      "execution_count": 6,
      "metadata": {},
      "outputs": [],
      "source": [
        "# Sales agent instructions with different personalities\n",
        "professional_instructions = \"\"\"You are a professional sales agent for ComplAI, a company providing AI-powered SOC2 compliance and audit preparation tools.\n",
        "You write structured, formal emails that emphasize our expertise and track record. Your output should be an EmailContent object.\"\"\"\n",
        "\n",
        "casual_instructions = \"\"\"You are a friendly, approachable sales agent for ComplAI, a company providing AI-powered SOC2 compliance and audit preparation tools.\n",
        "You write conversational emails that build rapport while maintaining professionalism. Your output should be an EmailContent object.\"\"\"\n",
        "\n",
        "direct_instructions = \"\"\"You are a results-focused sales agent for ComplAI, a company providing AI-powered SOC2 compliance and audit preparation tools.\n",
        "You write concise, value-proposition focused emails that get straight to the point. Your output should be an EmailContent object.\"\"\"\n",
        "\n",
        "# Create sales agents with different models and personalities\n",
        "sales_agent1 = Agent(\n",
        "    name=\"Professional Sales Agent\",\n",
        "    instructions=professional_instructions,\n",
        "    model=deepseek_model,\n",
        "    output_type=EmailContent\n",
        ")\n",
        "\n",
        "sales_agent2 = Agent(\n",
        "    name=\"Casual Sales Agent\",\n",
        "    instructions=casual_instructions,\n",
        "    model=gemini_model,\n",
        "    output_type=EmailContent\n",
        ")\n",
        "\n",
        "sales_agent3 = Agent(\n",
        "    name=\"Direct Sales Agent\",\n",
        "    instructions=direct_instructions,\n",
        "    model=llama3_3_model,\n",
        "    output_type=EmailContent\n",
        ")\n",
        "\n",
        "# Create tools from the agents\n",
        "tool1 = sales_agent1.as_tool(tool_name=\"professional_email\", tool_description=\"Generate a professional, formal sales email\")\n",
        "tool2 = sales_agent2.as_tool(tool_name=\"casual_email\", tool_description=\"Generate a friendly, conversational sales email\")\n",
        "tool3 = sales_agent3.as_tool(tool_name=\"direct_email\", tool_description=\"Generate a concise, direct sales email\")\n"
      ]
    },
    {
      "cell_type": "raw",
      "metadata": {
        "vscode": {
          "languageId": "raw"
        }
      },
      "source": [
        "## Manager Agents Setup\n",
        "\n",
        "This section configures two key management agents:\n",
        "\n",
        "1. Email Manager:\n",
        "   - Handles email processing and delivery\n",
        "   - Converts content to HTML\n",
        "   - Manages SendGrid integration\n",
        "   - Ensures quality standards\n",
        "\n",
        "2. Strategic Sales Manager:\n",
        "   - Coordinates between sales agents\n",
        "   - Evaluates email effectiveness\n",
        "   - Applies guardrails and validation\n",
        "   - Makes final selection for delivery\n",
        "\n",
        "Both managers use GPT-4 for optimal decision-making.\n"
      ]
    },
    {
      "cell_type": "code",
      "execution_count": 7,
      "metadata": {},
      "outputs": [],
      "source": [
        "email_manager_instructions = \"\"\"You are an enhanced email manager responsible for processing and sending sales emails.\n",
        "Your process:\n",
        "1. Receive an EmailContent object from a sales agent\n",
        "2. Convert it to HTML using the convert_to_html tool\n",
        "3. Send the email using the send_email tool\n",
        "4. Report back on the success of the operation\n",
        "\n",
        "You ensure all emails meet our quality standards and contain necessary components.\"\"\"\n",
        "\n",
        "email_manager = Agent(\n",
        "    name=\"Enhanced Email Manager\",\n",
        "    instructions=email_manager_instructions,\n",
        "    tools=[convert_to_html, send_email],\n",
        "    model=\"gpt-4o-mini\"\n",
        ")\n",
        "\n",
        "# Create the sales manager with enhanced guardrails\n",
        "sales_manager_instructions = \"\"\"You are a strategic sales manager for ComplAI.\n",
        "Your responsibilities:\n",
        "1. Use all three sales agent tools to generate different email versions\n",
        "2. Evaluate each email for effectiveness and appropriateness\n",
        "3. Select the most effective email based on:\n",
        "   - Clear value proposition\n",
        "   - Professional tone\n",
        "   - Compelling call to action\n",
        "4. Hand off the selected email to the Email Manager for processing\n",
        "\n",
        "Never generate emails yourself - always use the provided tools.\"\"\"\n",
        "\n",
        "sales_manager = Agent(\n",
        "    name=\"Strategic Sales Manager\",\n",
        "    instructions=sales_manager_instructions,\n",
        "    tools=[tool1, tool2, tool3],\n",
        "    handoffs=[email_manager],\n",
        "    model=\"gpt-4o-mini\",\n",
        "    input_guardrails=[check_personal_info],\n",
        "    output_guardrails=[validate_email]\n",
        ")\n"
      ]
    },
    {
      "cell_type": "raw",
      "metadata": {
        "vscode": {
          "languageId": "raw"
        }
      },
      "source": [
        "## System Testing\n",
        "\n",
        "This section runs a series of test cases to validate the system:\n",
        "\n",
        "1. Standard Cold Email:\n",
        "   - Tests basic functionality\n",
        "   - Validates end-to-end process\n",
        "\n",
        "2. Personal Information Test:\n",
        "   - Triggers privacy guardrails\n",
        "   - Validates protection mechanisms\n",
        "\n",
        "3. Complex Content Test:\n",
        "   - Tests system with detailed requirements\n",
        "   - Validates processing limits\n",
        "\n",
        "Results demonstrate:\n",
        "- Successful guardrail triggering\n",
        "- Error handling capabilities\n",
        "- System performance boundaries\n",
        "\n",
        "## View the Execution Traces\n",
        "\n",
        "You can view detailed execution traces of these tests at:\n",
        "https://platform.openai.com/traces\n",
        "\n",
        "The traces show:\n",
        "- Agent interactions\n",
        "- Decision processes\n",
        "- Guardrail activations\n",
        "- Error handling\n"
      ]
    },
    {
      "cell_type": "code",
      "execution_count": null,
      "metadata": {},
      "outputs": [],
      "source": [
        "# Test messages\n",
        "test_messages = [\n",
        "    \"Send a cold sales email to the CTO about our SOC2 compliance automation\",\n",
        "    \"Write a sales email to Alice Smith about our audit preparation tools\",  # Should trigger personal info guardrail\n",
        "    \"Send an email to the Head of Security explaining our AI-powered compliance monitoring\"\n",
        "]\n",
        "\n",
        "# Run tests with tracing\n",
        "async def run_tests():\n",
        "    for message in test_messages:\n",
        "        print(f\"\\nTesting message: {message}\")\n",
        "        print(\"-\" * 50)\n",
        "        \n",
        "        with trace(f\"Enhanced Sales Email System - {message[:30]}\"):\n",
        "            try:\n",
        "                result = await Runner.run(sales_manager, message)\n",
        "                print(\"Email generation completed successfully\")\n",
        "            except Exception as e:\n",
        "                print(f\"Error occurred: {str(e)}\")\n",
        "        print(\"-\" * 50)\n",
        "\n",
        "# Run the tests\n",
        "await run_tests()\n"
      ]
    },
    {
      "cell_type": "markdown",
      "metadata": {},
      "source": []
    }
  ],
  "metadata": {
    "kernelspec": {
      "display_name": ".venv",
      "language": "python",
      "name": "python3"
    },
    "language_info": {
      "codemirror_mode": {
        "name": "ipython",
        "version": 3
      },
      "file_extension": ".py",
      "mimetype": "text/x-python",
      "name": "python",
      "nbconvert_exporter": "python",
      "pygments_lexer": "ipython3",
      "version": "3.12.7"
    }
  },
  "nbformat": 4,
  "nbformat_minor": 2
}
