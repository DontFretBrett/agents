{
  "cells": [
    {
      "cell_type": "raw",
      "metadata": {
        "vscode": {
          "languageId": "raw"
        }
      },
      "source": [
        "## Viral Tech News Research\n",
        "\n",
        "This lab creates a deep research agent that finds and analyzes the most interesting and viral technology news of the week.\n"
      ]
    },
    {
      "cell_type": "raw",
      "metadata": {
        "vscode": {
          "languageId": "raw"
        }
      },
      "source": [
        "<table style=\"margin: 0; text-align: left; width:100%\">\n",
        "    <tr>\n",
        "        <td style=\"width: 150px; height: 150px; vertical-align: middle;\">\n",
        "            <img src=\"../../assets/business.png\" width=\"150\" height=\"150\" style=\"display: block;\" />\n",
        "        </td>\n",
        "        <td>\n",
        "            <h2 style=\"color:#00bfff;\">Stay on top of tech trends</h2>\n",
        "            <span style=\"color:#00bfff;\">This agent helps you discover and analyze the most interesting technology news that people are talking about. Perfect for content creators, tech enthusiasts, and anyone who wants to stay informed about viral tech stories.\n",
        "            </span>\n",
        "        </td>\n",
        "    </tr>\n",
        "</table>\n"
      ]
    },
    {
      "cell_type": "code",
      "execution_count": 1,
      "metadata": {},
      "outputs": [],
      "source": [
        "from agents import Agent, WebSearchTool, trace, Runner, gen_trace_id, function_tool\n",
        "from agents.model_settings import ModelSettings\n",
        "from pydantic import BaseModel, Field\n",
        "from dotenv import load_dotenv\n",
        "import asyncio\n",
        "import sendgrid\n",
        "import os\n",
        "from sendgrid.helpers.mail import Mail, Email, To, Content\n",
        "from typing import Dict\n",
        "from IPython.display import display, Markdown\n"
      ]
    },
    {
      "cell_type": "code",
      "execution_count": 2,
      "metadata": {},
      "outputs": [
        {
          "data": {
            "text/plain": [
              "True"
            ]
          },
          "execution_count": 2,
          "metadata": {},
          "output_type": "execute_result"
        }
      ],
      "source": [
        "load_dotenv(override=True)\n"
      ]
    },
    {
      "cell_type": "code",
      "execution_count": 3,
      "metadata": {},
      "outputs": [],
      "source": [
        "INSTRUCTIONS = \"\"\"You are a tech news researcher specializing in finding viral and interesting technology stories. \n",
        "Given a search term, you search the web and produce a concise summary that highlights what makes the story interesting \n",
        "and potentially viral. Focus on:\n",
        "1. Why this story is capturing attention\n",
        "2. Key surprising or controversial elements\n",
        "3. Social media reaction and engagement\n",
        "4. Potential future implications\n",
        "\n",
        "The summary must be 2-3 paragraphs and less than 300 words. Write in an engaging style that draws readers in \n",
        "while maintaining accuracy. Include relevant metrics like view counts, shares, or trending status if available.\n",
        "\n",
        "IMPORTANT: You MUST include the source URL for each story in markdown link format at the end of your summary, like this:\n",
        "[Source: Publication Name](https://url-to-story)\n",
        "\n",
        "If there are multiple key sources, include them all in separate markdown links. Never mention a story without its source link.\"\"\"\n",
        "\n",
        "search_agent = Agent(\n",
        "    name=\"Search agent\",\n",
        "    instructions=INSTRUCTIONS,\n",
        "    tools=[WebSearchTool(search_context_size=\"low\")],\n",
        "    model=\"gpt-4o-mini\",\n",
        "    model_settings=ModelSettings(tool_choice=\"required\"),\n",
        ")\n"
      ]
    },
    {
      "cell_type": "code",
      "execution_count": 4,
      "metadata": {},
      "outputs": [],
      "source": [
        "HOW_MANY_SEARCHES = 5  # Increased from 3 to get more diverse news coverage\n",
        "\n",
        "INSTRUCTIONS = f\"\"\"You are a viral tech news curator. Given a request for interesting tech news, \n",
        "come up with {HOW_MANY_SEARCHES} specific search queries that will help find the most engaging and \n",
        "viral tech stories of the week. Focus on:\n",
        "1. Breaking tech news\n",
        "2. Controversial tech developments\n",
        "3. Viral tech demos or releases\n",
        "4. Surprising announcements or discoveries\n",
        "5. Tech stories gaining significant social media traction\"\"\"\n",
        "\n",
        "class WebSearchItem(BaseModel):\n",
        "    reason: str = Field(description=\"Why this search will help find viral/interesting tech news\")\n",
        "    query: str = Field(description=\"The search term to use for finding viral tech news\")\n",
        "\n",
        "class WebSearchPlan(BaseModel):\n",
        "    searches: list[WebSearchItem] = Field(description=\"A list of searches to find viral tech news\")\n",
        "\n",
        "planner_agent = Agent(\n",
        "    name=\"PlannerAgent\",\n",
        "    instructions=INSTRUCTIONS,\n",
        "    model=\"gpt-4o-mini\",\n",
        "    output_type=WebSearchPlan,\n",
        ")\n"
      ]
    },
    {
      "cell_type": "code",
      "execution_count": 5,
      "metadata": {},
      "outputs": [],
      "source": [
        "@function_tool\n",
        "def send_email(subject: str, html_body: str) -> Dict[str, str]:\n",
        "    \"\"\" Send out an email with the given subject and HTML body \"\"\"\n",
        "    sg = sendgrid.SendGridAPIClient(api_key=os.environ.get('SENDGRID_API_KEY'))\n",
        "    from_email = Email(\"sanders.brett@gmail.com\")  # Change this to your verified email\n",
        "    to_email = To(\"blogbrett@gmail.com\")  # Change this to your email\n",
        "    content = Content(\"text/html\", html_body)\n",
        "    mail = Mail(from_email, to_email, subject, content).get()\n",
        "    response = sg.client.mail.send.post(request_body=mail)\n",
        "    return {\"status\": \"success\"}\n"
      ]
    },
    {
      "cell_type": "code",
      "execution_count": 6,
      "metadata": {},
      "outputs": [],
      "source": [
        "INSTRUCTIONS = \"\"\"You are a tech news email curator. You will be provided with a detailed report about viral \n",
        "tech news. Convert this into an engaging HTML email that will make readers want to click and read more.\n",
        "Use attention-grabbing subject lines, clear formatting, and highlight the most interesting aspects of each story.\n",
        "\n",
        "CRITICAL: Source links are essential to this email's value:\n",
        "- Convert ALL markdown links to proper HTML <a> tags with appropriate styling\n",
        "- Every story MUST maintain its source attribution link(s)\n",
        "- Style links to be clearly visible and inviting to click\n",
        "- When multiple sources are cited for a story, preserve ALL links\n",
        "- Double-check that no links are lost in the markdown-to-HTML conversion\n",
        "\n",
        "The email should be visually appealing with clear sections, highlights, and proper spacing.\"\"\"\n",
        "\n",
        "email_agent = Agent(\n",
        "    name=\"Email agent\",\n",
        "    instructions=INSTRUCTIONS,\n",
        "    tools=[send_email],\n",
        "    model=\"gpt-4o-mini\",\n",
        ")\n"
      ]
    },
    {
      "cell_type": "code",
      "execution_count": 7,
      "metadata": {},
      "outputs": [],
      "source": [
        "INSTRUCTIONS = \"\"\"You are a senior tech journalist tasked with writing an engaging report about the most \n",
        "interesting tech news of the week. You will be provided with research about various viral tech stories.\n",
        "\n",
        "Create a report that:\n",
        "1. Ranks stories by their viral potential and significance\n",
        "2. Analyzes why each story is capturing attention\n",
        "3. Provides context and implications\n",
        "4. Includes relevant social media reactions and metrics\n",
        "5. Makes predictions about how these stories might evolve\n",
        "\n",
        "CRITICAL REQUIREMENTS:\n",
        "- The report should be in markdown format, engaging but accurate, and aim for 1000-1500 words\n",
        "- EVERY story mentioned MUST include its source link(s) in markdown format: [Source: Publication Name](url)\n",
        "- When aggregating information from multiple sources about the same story, include ALL source links\n",
        "- Place source links immediately after discussing each story\n",
        "- Double-check that all URLs from the research are preserved and properly formatted\n",
        "- Never discuss a story without providing its source link\"\"\"\n",
        "\n",
        "class ReportData(BaseModel):\n",
        "    short_summary: str = Field(description=\"A catchy 2-3 sentence summary of the top viral tech stories\")\n",
        "    markdown_report: str = Field(description=\"The detailed analysis of viral tech news\")\n",
        "    follow_up_questions: list[str] = Field(description=\"Emerging angles or developments to watch\")\n",
        "\n",
        "writer_agent = Agent(\n",
        "    name=\"WriterAgent\",\n",
        "    instructions=INSTRUCTIONS,\n",
        "    model=\"gpt-4o-mini\",\n",
        "    output_type=ReportData,\n",
        ")\n"
      ]
    },
    {
      "cell_type": "code",
      "execution_count": 8,
      "metadata": {},
      "outputs": [],
      "source": [
        "async def plan_searches(query: str):\n",
        "    \"\"\" Use the planner_agent to plan which searches to run for viral tech news \"\"\"\n",
        "    print(\"Planning searches for viral tech news...\")\n",
        "    result = await Runner.run(planner_agent, f\"Query: {query}\")\n",
        "    print(f\"Will perform {len(result.final_output.searches)} searches\")\n",
        "    return result.final_output\n",
        "\n",
        "async def perform_searches(search_plan: WebSearchPlan):\n",
        "    \"\"\" Call search() for each item in the search plan \"\"\"\n",
        "    print(\"Searching for viral tech stories...\")\n",
        "    tasks = [asyncio.create_task(search(item)) for item in search_plan.searches]\n",
        "    results = await asyncio.gather(*tasks)\n",
        "    print(\"Finished searching\")\n",
        "    return results\n",
        "\n",
        "async def search(item: WebSearchItem):\n",
        "    \"\"\" Use the search agent to find viral tech news \"\"\"\n",
        "    input = f\"Search term: {item.query}\\nLooking for: {item.reason}\"\n",
        "    result = await Runner.run(search_agent, input)\n",
        "    return result.final_output\n"
      ]
    },
    {
      "cell_type": "code",
      "execution_count": 9,
      "metadata": {},
      "outputs": [],
      "source": [
        "async def write_report(query: str, search_results: list[str]):\n",
        "    \"\"\" Use the writer agent to create an engaging report about viral tech news \"\"\"\n",
        "    print(\"Analyzing viral tech stories...\")\n",
        "    input = f\"Original query: {query}\\nResearch findings: {search_results}\"\n",
        "    result = await Runner.run(writer_agent, input)\n",
        "    print(\"Finished writing viral tech report\")\n",
        "    return result.final_output\n",
        "\n",
        "async def send_email(report: ReportData):\n",
        "    \"\"\" Use the email agent to send an engaging email about viral tech news \"\"\"\n",
        "    print(\"Crafting viral tech news email...\")\n",
        "    result = await Runner.run(email_agent, report.markdown_report)\n",
        "    print(\"Email sent\")\n",
        "    return report\n"
      ]
    },
    {
      "cell_type": "code",
      "execution_count": 10,
      "metadata": {},
      "outputs": [
        {
          "name": "stdout",
          "output_type": "stream",
          "text": [
            "Starting viral tech news research...\n",
            "Planning searches for viral tech news...\n",
            "Will perform 5 searches\n",
            "Searching for viral tech stories...\n",
            "Finished searching\n",
            "Analyzing viral tech stories...\n",
            "Finished writing viral tech report\n",
            "Crafting viral tech news email...\n",
            "Email sent\n",
            "Viral tech news report complete and sent!\n"
          ]
        }
      ],
      "source": [
        "query = \"Most viral and interesting technology news this week\"\n",
        "\n",
        "with trace(\"Viral Tech News Research\"):\n",
        "    print(\"Starting viral tech news research...\")\n",
        "    search_plan = await plan_searches(query)\n",
        "    search_results = await perform_searches(search_plan)\n",
        "    report = await write_report(query, search_results)\n",
        "    await send_email(report)  \n",
        "    print(\"Viral tech news report complete and sent!\")\n"
      ]
    }
  ],
  "metadata": {
    "kernelspec": {
      "display_name": ".venv",
      "language": "python",
      "name": "python3"
    },
    "language_info": {
      "codemirror_mode": {
        "name": "ipython",
        "version": 3
      },
      "file_extension": ".py",
      "mimetype": "text/x-python",
      "name": "python",
      "nbconvert_exporter": "python",
      "pygments_lexer": "ipython3",
      "version": "3.12.7"
    }
  },
  "nbformat": 4,
  "nbformat_minor": 2
}
